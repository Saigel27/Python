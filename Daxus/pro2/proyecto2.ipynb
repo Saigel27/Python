{
 "cells": [
  {
   "cell_type": "markdown",
   "id": "4d20828b",
   "metadata": {},
   "source": [
    "! pip install yfinance\n",
    "! pip install matplotlib"
   ]
  },
  {
   "cell_type": "code",
   "execution_count": 2,
   "id": "26e6147e",
   "metadata": {},
   "outputs": [],
   "source": [
    "import yfinance"
   ]
  },
  {
   "cell_type": "code",
   "execution_count": 10,
   "id": "c8c07254",
   "metadata": {},
   "outputs": [
    {
     "data": {
      "text/html": [
       "<div>\n",
       "<style scoped>\n",
       "    .dataframe tbody tr th:only-of-type {\n",
       "        vertical-align: middle;\n",
       "    }\n",
       "\n",
       "    .dataframe tbody tr th {\n",
       "        vertical-align: top;\n",
       "    }\n",
       "\n",
       "    .dataframe thead th {\n",
       "        text-align: right;\n",
       "    }\n",
       "</style>\n",
       "<table border=\"1\" class=\"dataframe\">\n",
       "  <thead>\n",
       "    <tr style=\"text-align: right;\">\n",
       "      <th></th>\n",
       "      <th>Open</th>\n",
       "      <th>High</th>\n",
       "      <th>Low</th>\n",
       "      <th>Close</th>\n",
       "      <th>Volume</th>\n",
       "      <th>Dividends</th>\n",
       "      <th>Stock Splits</th>\n",
       "    </tr>\n",
       "    <tr>\n",
       "      <th>Date</th>\n",
       "      <th></th>\n",
       "      <th></th>\n",
       "      <th></th>\n",
       "      <th></th>\n",
       "      <th></th>\n",
       "      <th></th>\n",
       "      <th></th>\n",
       "    </tr>\n",
       "  </thead>\n",
       "  <tbody>\n",
       "    <tr>\n",
       "      <th>2024-11-15 00:00:00-05:00</th>\n",
       "      <td>225.855167</td>\n",
       "      <td>226.373920</td>\n",
       "      <td>223.730303</td>\n",
       "      <td>224.458542</td>\n",
       "      <td>47923700</td>\n",
       "      <td>0.00</td>\n",
       "      <td>0.0</td>\n",
       "    </tr>\n",
       "    <tr>\n",
       "      <th>2024-11-18 00:00:00-05:00</th>\n",
       "      <td>224.707945</td>\n",
       "      <td>229.187145</td>\n",
       "      <td>224.628135</td>\n",
       "      <td>227.471283</td>\n",
       "      <td>44686000</td>\n",
       "      <td>0.00</td>\n",
       "      <td>0.0</td>\n",
       "    </tr>\n",
       "    <tr>\n",
       "      <th>2024-11-19 00:00:00-05:00</th>\n",
       "      <td>226.433777</td>\n",
       "      <td>229.606133</td>\n",
       "      <td>226.114555</td>\n",
       "      <td>227.730652</td>\n",
       "      <td>36211800</td>\n",
       "      <td>0.00</td>\n",
       "      <td>0.0</td>\n",
       "    </tr>\n",
       "    <tr>\n",
       "      <th>2024-11-20 00:00:00-05:00</th>\n",
       "      <td>227.511173</td>\n",
       "      <td>229.376668</td>\n",
       "      <td>225.346397</td>\n",
       "      <td>228.448914</td>\n",
       "      <td>35169600</td>\n",
       "      <td>0.00</td>\n",
       "      <td>0.0</td>\n",
       "    </tr>\n",
       "    <tr>\n",
       "      <th>2024-11-21 00:00:00-05:00</th>\n",
       "      <td>228.329212</td>\n",
       "      <td>229.606130</td>\n",
       "      <td>225.166842</td>\n",
       "      <td>227.970078</td>\n",
       "      <td>42108300</td>\n",
       "      <td>0.00</td>\n",
       "      <td>0.0</td>\n",
       "    </tr>\n",
       "    <tr>\n",
       "      <th>...</th>\n",
       "      <td>...</td>\n",
       "      <td>...</td>\n",
       "      <td>...</td>\n",
       "      <td>...</td>\n",
       "      <td>...</td>\n",
       "      <td>...</td>\n",
       "      <td>...</td>\n",
       "    </tr>\n",
       "    <tr>\n",
       "      <th>2025-05-08 00:00:00-04:00</th>\n",
       "      <td>197.461064</td>\n",
       "      <td>199.788014</td>\n",
       "      <td>194.425036</td>\n",
       "      <td>197.231369</td>\n",
       "      <td>50478900</td>\n",
       "      <td>0.00</td>\n",
       "      <td>0.0</td>\n",
       "    </tr>\n",
       "    <tr>\n",
       "      <th>2025-05-09 00:00:00-04:00</th>\n",
       "      <td>198.739390</td>\n",
       "      <td>200.277366</td>\n",
       "      <td>197.281295</td>\n",
       "      <td>198.270004</td>\n",
       "      <td>36453900</td>\n",
       "      <td>0.00</td>\n",
       "      <td>0.0</td>\n",
       "    </tr>\n",
       "    <tr>\n",
       "      <th>2025-05-12 00:00:00-04:00</th>\n",
       "      <td>210.970001</td>\n",
       "      <td>211.270004</td>\n",
       "      <td>206.750000</td>\n",
       "      <td>210.789993</td>\n",
       "      <td>63775800</td>\n",
       "      <td>0.26</td>\n",
       "      <td>0.0</td>\n",
       "    </tr>\n",
       "    <tr>\n",
       "      <th>2025-05-13 00:00:00-04:00</th>\n",
       "      <td>210.429993</td>\n",
       "      <td>213.399994</td>\n",
       "      <td>209.000000</td>\n",
       "      <td>212.929993</td>\n",
       "      <td>51909300</td>\n",
       "      <td>0.00</td>\n",
       "      <td>0.0</td>\n",
       "    </tr>\n",
       "    <tr>\n",
       "      <th>2025-05-14 00:00:00-04:00</th>\n",
       "      <td>212.425003</td>\n",
       "      <td>213.940002</td>\n",
       "      <td>210.580093</td>\n",
       "      <td>212.330002</td>\n",
       "      <td>49117576</td>\n",
       "      <td>0.00</td>\n",
       "      <td>0.0</td>\n",
       "    </tr>\n",
       "  </tbody>\n",
       "</table>\n",
       "<p>122 rows × 7 columns</p>\n",
       "</div>"
      ],
      "text/plain": [
       "                                 Open        High         Low       Close  \\\n",
       "Date                                                                        \n",
       "2024-11-15 00:00:00-05:00  225.855167  226.373920  223.730303  224.458542   \n",
       "2024-11-18 00:00:00-05:00  224.707945  229.187145  224.628135  227.471283   \n",
       "2024-11-19 00:00:00-05:00  226.433777  229.606133  226.114555  227.730652   \n",
       "2024-11-20 00:00:00-05:00  227.511173  229.376668  225.346397  228.448914   \n",
       "2024-11-21 00:00:00-05:00  228.329212  229.606130  225.166842  227.970078   \n",
       "...                               ...         ...         ...         ...   \n",
       "2025-05-08 00:00:00-04:00  197.461064  199.788014  194.425036  197.231369   \n",
       "2025-05-09 00:00:00-04:00  198.739390  200.277366  197.281295  198.270004   \n",
       "2025-05-12 00:00:00-04:00  210.970001  211.270004  206.750000  210.789993   \n",
       "2025-05-13 00:00:00-04:00  210.429993  213.399994  209.000000  212.929993   \n",
       "2025-05-14 00:00:00-04:00  212.425003  213.940002  210.580093  212.330002   \n",
       "\n",
       "                             Volume  Dividends  Stock Splits  \n",
       "Date                                                          \n",
       "2024-11-15 00:00:00-05:00  47923700       0.00           0.0  \n",
       "2024-11-18 00:00:00-05:00  44686000       0.00           0.0  \n",
       "2024-11-19 00:00:00-05:00  36211800       0.00           0.0  \n",
       "2024-11-20 00:00:00-05:00  35169600       0.00           0.0  \n",
       "2024-11-21 00:00:00-05:00  42108300       0.00           0.0  \n",
       "...                             ...        ...           ...  \n",
       "2025-05-08 00:00:00-04:00  50478900       0.00           0.0  \n",
       "2025-05-09 00:00:00-04:00  36453900       0.00           0.0  \n",
       "2025-05-12 00:00:00-04:00  63775800       0.26           0.0  \n",
       "2025-05-13 00:00:00-04:00  51909300       0.00           0.0  \n",
       "2025-05-14 00:00:00-04:00  49117576       0.00           0.0  \n",
       "\n",
       "[122 rows x 7 columns]"
      ]
     },
     "execution_count": 10,
     "metadata": {},
     "output_type": "execute_result"
    }
   ],
   "source": [
    "yfinance.Ticker(\"AAPL\").history(\"6mo\")"
   ]
  },
  {
   "cell_type": "code",
   "execution_count": 13,
   "id": "56b3a5b9",
   "metadata": {},
   "outputs": [
    {
     "data": {
      "text/plain": [
       "<Axes: xlabel='Date'>"
      ]
     },
     "execution_count": 13,
     "metadata": {},
     "output_type": "execute_result"
    },
    {
     "data": {
      "image/png": "[encoded data removed]",
      "text/plain": [
       "<Figure size 640x480 with 1 Axes>"
      ]
     },
     "metadata": {},
     "output_type": "display_data"
    }
   ],
   "source": [
    "data = yfinance.Ticker(\"AAPL\").history(\"6mo\")\n",
    "cierre = data.Close\n",
    "cierre.plot()"
   ]
  },
  {
   "cell_type": "code",
   "execution_count": 29,
   "id": "5e7a2e3d",
   "metadata": {},
   "outputs": [],
   "source": [
    "minimo = round(cierre.min(), 2)"
   ]
  },
  {
   "cell_type": "code",
   "execution_count": 28,
   "id": "f0a37aa7",
   "metadata": {},
   "outputs": [],
   "source": [
    "maxima = round(cierre.max(), 2)\n"
   ]
  },
  {
   "cell_type": "code",
   "execution_count": 27,
   "id": "e8779084",
   "metadata": {},
   "outputs": [],
   "source": [
    "medio = round(cierre.mean(), 2)"
   ]
  },
  {
   "cell_type": "markdown",
   "id": "433e29b1",
   "metadata": {},
   "source": [
    "#Enviar email\n",
    " \n",
    "! pip install pyautogui\n",
    "! pip install pyperclip"
   ]
  },
  {
   "cell_type": "code",
   "execution_count": 63,
   "id": "ec92ffbe",
   "metadata": {},
   "outputs": [],
   "source": [
    "import pyautogui\n",
    "import pyperclip\n",
    "import webbrowser\n",
    "import time \n",
    "\n",
    "destinatario = input(\"Diga el correo al que se quiere enviar:\")\n",
    "asunto = \"Correo de prueba\"\n",
    "mensaje = f\"\"\"\n",
    "   Hola, estimado, le invito a realizar un chequeo sistemático de lo existente.\n",
    "   Estoy probando mi sistema automático para envío de correos, me parece increíble.\n",
    "   \n",
    "   La cotización máxima de la página de apple en yahoo finance es :USD {maxima}\n",
    "   La cotización mínima de la página de apple en yahoo finance es :USD {minimo}\n",
    "   La cotización media de la página de apple en yahoo finance es :USD {medio}\n",
    "   \n",
    "    Si te parece bien, hagámoslo bien.\n",
    "\"\"\"\n",
    "webbrowser.open(\"https://mail.google.com/mail/u/0/#inbox\")\n",
    "time.sleep(3)\n",
    "\n",
    "pyautogui.click(94,208)\n",
    "time.sleep(5)\n",
    "\n",
    "pyperclip.copy(destinatario)\n",
    "pyautogui.hotkey(\"ctrl\", \"v\")\n",
    "\n",
    "pyautogui.hotkey(\"tab\")\n",
    "pyperclip.copy(asunto)\n",
    "pyautogui.hotkey(\"ctrl\", \"v\")\n",
    "\n",
    "pyautogui.hotkey(\"tab\")\n",
    "pyperclip.copy(mensaje)\n",
    "pyautogui.hotkey(\"ctrl\", \"v\")\n",
    "\n",
    "pyautogui.click(x=1218, y=959)\n",
    "\n",
    "pyautogui.hotkey(\"ctrl\", \"w\")\n",
    "time.sleep(1)\n",
    "pyautogui.click(x=1079, y=263)"
   ]
  },
  {
   "cell_type": "code",
   "execution_count": 60,
   "id": "4dd7497d",
   "metadata": {},
   "outputs": [
    {
     "data": {
      "text/plain": [
       "Point(x=1079, y=263)"
      ]
     },
     "execution_count": 60,
     "metadata": {},
     "output_type": "execute_result"
    }
   ],
   "source": [
    "time.sleep(3)\n",
    "pyautogui.position()"
   ]
  }
 ],
 "metadata": {
  "kernelspec": {
   "display_name": "Python 3",
   "language": "python",
   "name": "python3"
  },
  "language_info": {
   "codemirror_mode": {
    "name": "ipython",
    "version": 3
   },
   "file_extension": ".py",
   "mimetype": "text/x-python",
   "name": "python",
   "nbconvert_exporter": "python",
   "pygments_lexer": "ipython3",
   "version": "3.12.6"
  }
 },
 "nbformat": 4,
 "nbformat_minor": 5
}
