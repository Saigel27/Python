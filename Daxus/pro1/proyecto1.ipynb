{
 "cells": [
  {
   "cell_type": "markdown",
   "id": "f8a1bcfd",
   "metadata": {},
   "source": [
    "# Proyecto 1\n"
   ]
  },
  {
   "cell_type": "code",
   "execution_count": 1,
   "id": "10eb0dc7",
   "metadata": {},
   "outputs": [
    {
     "data": {
      "text/plain": [
       "'Uola'"
      ]
     },
     "execution_count": 1,
     "metadata": {},
     "output_type": "execute_result"
    }
   ],
   "source": [
    "input(\"Dime algo aahí\")"
   ]
  },
  {
   "cell_type": "code",
   "execution_count": null,
   "id": "1e8552c3",
   "metadata": {},
   "outputs": [],
   "source": [
    "! pip install fpdf"
   ]
  },
  {
   "cell_type": "code",
   "execution_count": 3,
   "id": "3cf90588",
   "metadata": {},
   "outputs": [],
   "source": [
    "from fpdf import FPDF"
   ]
  },
  {
   "cell_type": "code",
   "execution_count": 7,
   "id": "ce085e3c",
   "metadata": {},
   "outputs": [
    {
     "name": "stdout",
     "output_type": "stream",
     "text": [
      "Preupuesto generado con éxito\n"
     ]
    }
   ],
   "source": [
    "pdf = FPDF()\n",
    "\n",
    "proyecto = input(\"inserte la descripción del proyecto:\")\n",
    "horas_estimadas = input(\"inserte la contidad de horas estimadas:\")\n",
    "valor_hora = input(\"Inserte el valor de cada hora: \")\n",
    "tiempo_estimado = input(\"Digite el plazo estimado: \")\n",
    "valor_total = int(horas_estimadas) * int(valor_hora)\n",
    "\n",
    "pdf.add_page()\n",
    "pdf.set_font(\"Arial\")\n",
    "\n",
    "pdf.image(\"Template.png\", 0, 0)\n",
    "\n",
    "pdf.text(115, 145, proyecto)\n",
    "pdf.text(115, 160, horas_estimadas)\n",
    "pdf.text(115, 175, valor_hora)\n",
    "pdf.text(115, 190, tiempo_estimado)\n",
    "pdf.text(115, 205, str(valor_total))\n",
    "\n",
    "pdf.output(\"presupuesto.pdf\")\n",
    "print(\"Preupuesto generado con éxito\")"
   ]
  }
 ],
 "metadata": {
  "kernelspec": {
   "display_name": "Python 3",
   "language": "python",
   "name": "python3"
  },
  "language_info": {
   "codemirror_mode": {
    "name": "ipython",
    "version": 3
   },
   "file_extension": ".py",
   "mimetype": "text/x-python",
   "name": "python",
   "nbconvert_exporter": "python",
   "pygments_lexer": "ipython3",
   "version": "3.12.6"
  }
 },
 "nbformat": 4,
 "nbformat_minor": 5
}
